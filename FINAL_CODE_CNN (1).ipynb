{
 "cells": [
  {
   "cell_type": "code",
   "execution_count": 1,
   "id": "953fd4cc",
   "metadata": {},
   "outputs": [],
   "source": [
    "import os\n",
    "import numpy as np\n",
    "import pandas as pd\n",
    "import cv2"
   ]
  },
  {
   "cell_type": "code",
   "execution_count": 2,
   "id": "d113b6b6",
   "metadata": {},
   "outputs": [],
   "source": [
    "from sklearn.model_selection import train_test_split\n",
    "from tensorflow.keras.applications import ResNet50\n",
    "from tensorflow.keras.models import Model\n",
    "from tensorflow.keras.layers import Dense, GlobalAveragePooling2D\n",
    "from tensorflow.keras.optimizers import Adam"
   ]
  },
  {
   "cell_type": "code",
   "execution_count": 3,
   "id": "e4dc592b",
   "metadata": {},
   "outputs": [],
   "source": [
    "import os\n",
    "import numpy as np\n",
    "import pandas as pd\n",
    "import cv2\n",
    "from sklearn.model_selection import train_test_split\n",
    "from tensorflow.keras.models import Sequential\n",
    "from tensorflow.keras.layers import Conv2D, MaxPooling2D, Flatten, Dense\n",
    "from tensorflow.keras.optimizers import Adam\n",
    "from tensorflow.keras.utils import to_categorical"
   ]
  },
  {
   "cell_type": "code",
   "execution_count": 4,
   "id": "be7a1373",
   "metadata": {},
   "outputs": [],
   "source": [
    "csv_file_path = \"data.csv\"  \n",
    "image_folder_path = r\"C:\\Users\\Dell\\Desktop\\data\\Xrayimage\" \n",
    "data = pd.read_csv(csv_file_path)"
   ]
  },
  {
   "cell_type": "code",
   "execution_count": 5,
   "id": "1c136006",
   "metadata": {},
   "outputs": [],
   "source": [
    "images = []\n",
    "labels = []"
   ]
  },
  {
   "cell_type": "code",
   "execution_count": 1,
   "id": "b330abea",
   "metadata": {},
   "outputs": [],
   "source": [
    "# ERROR SHOW BELOW IS NOT AN ERROR , THESE ARE THE IMAGES WE HAVE SAPERATED FOR TESTING OF MODEL "
   ]
  },
  {
   "cell_type": "code",
   "execution_count": 6,
   "id": "62d69e91",
   "metadata": {},
   "outputs": [
    {
     "name": "stdout",
     "output_type": "stream",
     "text": [
      "Error: Unable to read image C:\\Users\\Dell\\Desktop\\data\\Xrayimage\\19936.jpg\n",
      "Error: Unable to read image C:\\Users\\Dell\\Desktop\\data\\Xrayimage\\23005.jpg\n",
      "Error: Unable to read image C:\\Users\\Dell\\Desktop\\data\\Xrayimage\\23151.jpg\n",
      "Error: Unable to read image C:\\Users\\Dell\\Desktop\\data\\Xrayimage\\35326.jpg\n",
      "Error: Unable to read image C:\\Users\\Dell\\Desktop\\data\\Xrayimage\\38561.jpg\n",
      "Error: Unable to read image C:\\Users\\Dell\\Desktop\\data\\Xrayimage\\40056.jpg\n",
      "Error: Unable to read image C:\\Users\\Dell\\Desktop\\data\\Xrayimage\\77693.jpg\n",
      "Error: Unable to read image C:\\Users\\Dell\\Desktop\\data\\Xrayimage\\79181.jpg\n",
      "Error: Unable to read image C:\\Users\\Dell\\Desktop\\data\\Xrayimage\\143163.jpg\n",
      "Error: Unable to read image C:\\Users\\Dell\\Desktop\\data\\Xrayimage\\306579.jpg\n",
      "Error: Unable to read image C:\\Users\\Dell\\Desktop\\data\\Xrayimage\\369973.jpg\n",
      "Error: Unable to read image C:\\Users\\Dell\\Desktop\\data\\Xrayimage\\398748.jpg\n",
      "Error: Unable to read image C:\\Users\\Dell\\Desktop\\data\\Xrayimage\\404431.jpg\n",
      "Error: Unable to read image C:\\Users\\Dell\\Desktop\\data\\Xrayimage\\443359.jpg\n",
      "Error: Unable to read image C:\\Users\\Dell\\Desktop\\data\\Xrayimage\\443377.jpg\n",
      "Error: Unable to read image C:\\Users\\Dell\\Desktop\\data\\Xrayimage\\443401.jpg\n",
      "Error: Unable to read image C:\\Users\\Dell\\Desktop\\data\\Xrayimage\\443431.jpg\n",
      "Error: Unable to read image C:\\Users\\Dell\\Desktop\\data\\Xrayimage\\443540.jpg\n",
      "Error: Unable to read image C:\\Users\\Dell\\Desktop\\data\\Xrayimage\\443850.jpg\n",
      "Error: Unable to read image C:\\Users\\Dell\\Desktop\\data\\Xrayimage\\443863.jpg\n",
      "Error: Unable to read image C:\\Users\\Dell\\Desktop\\data\\Xrayimage\\443906.jpg\n",
      "Error: Unable to read image C:\\Users\\Dell\\Desktop\\data\\Xrayimage\\444102.jpg\n",
      "Error: Unable to read image C:\\Users\\Dell\\Desktop\\data\\Xrayimage\\444136.jpg\n",
      "Error: Unable to read image C:\\Users\\Dell\\Desktop\\data\\Xrayimage\\444288.jpg\n",
      "Error: Unable to read image C:\\Users\\Dell\\Desktop\\data\\Xrayimage\\444933.jpg\n",
      "Error: Unable to read image C:\\Users\\Dell\\Desktop\\data\\Xrayimage\\444956.jpg\n",
      "Error: Unable to read image C:\\Users\\Dell\\Desktop\\data\\Xrayimage\\444987.jpg\n",
      "Error: Unable to read image C:\\Users\\Dell\\Desktop\\data\\Xrayimage\\445062.jpg\n",
      "Error: Unable to read image C:\\Users\\Dell\\Desktop\\data\\Xrayimage\\445344.jpg\n",
      "Error: Unable to read image C:\\Users\\Dell\\Desktop\\data\\Xrayimage\\445404.jpg\n",
      "Error: Unable to read image C:\\Users\\Dell\\Desktop\\data\\Xrayimage\\445756.jpg\n"
     ]
    }
   ],
   "source": [
    "for index, row in data.iterrows():\n",
    "    image_path = os.path.join(image_folder_path, str(row['imageNo']) + '.jpg')\n",
    "    try:\n",
    "        image = cv2.imread(image_path, cv2.IMREAD_GRAYSCALE)  # Load as grayscale\n",
    "        if image is not None:\n",
    "            image = cv2.resize(image, (224, 224))  # Resize image to 128x128\n",
    "            images.append(image)\n",
    "            labels.append(row['rascore'])\n",
    "        else:\n",
    "            print(f\"Error: Unable to read image {image_path}\")\n",
    "    except Exception as e:\n",
    "        print(f\"Error: Exception occurred while loading image {image_path}: {e}\")"
   ]
  },
  {
   "cell_type": "code",
   "execution_count": 7,
   "id": "5c163758",
   "metadata": {},
   "outputs": [],
   "source": [
    "images = np.array(images, dtype=\"float32\")\n",
    "labels = np.array(labels)"
   ]
  },
  {
   "cell_type": "code",
   "execution_count": 8,
   "id": "9da7e180",
   "metadata": {},
   "outputs": [],
   "source": [
    "X_train, X_test, y_train, y_test = train_test_split(images, labels, test_size=0.2, random_state=42)"
   ]
  },
  {
   "cell_type": "code",
   "execution_count": 9,
   "id": "3bc21de3",
   "metadata": {},
   "outputs": [
    {
     "data": {
      "text/plain": [
       "(3040, 224, 224)"
      ]
     },
     "execution_count": 9,
     "metadata": {},
     "output_type": "execute_result"
    }
   ],
   "source": [
    "X_train.shape"
   ]
  },
  {
   "cell_type": "code",
   "execution_count": 10,
   "id": "e812c780",
   "metadata": {},
   "outputs": [
    {
     "data": {
      "text/plain": [
       "(3040,)"
      ]
     },
     "execution_count": 10,
     "metadata": {},
     "output_type": "execute_result"
    }
   ],
   "source": [
    "y_train.shape"
   ]
  },
  {
   "cell_type": "code",
   "execution_count": 11,
   "id": "ff9a1f82",
   "metadata": {},
   "outputs": [
    {
     "data": {
      "text/plain": [
       "(760, 224, 224)"
      ]
     },
     "execution_count": 11,
     "metadata": {},
     "output_type": "execute_result"
    }
   ],
   "source": [
    "X_test.shape"
   ]
  },
  {
   "cell_type": "code",
   "execution_count": 12,
   "id": "4b02065c",
   "metadata": {},
   "outputs": [],
   "source": [
    "labels_categories = []\n",
    "for label in labels:\n",
    "    if label <= 5:\n",
    "        labels_categories.append(0)  # Low RA Severity\n",
    "    elif 5 < label <= 10:\n",
    "        labels_categories.append(1)  # Moderate RA Severity\n",
    "    else:\n",
    "        labels_categories.append(2)  # High RA Severity"
   ]
  },
  {
   "cell_type": "code",
   "execution_count": 13,
   "id": "1da27369",
   "metadata": {},
   "outputs": [],
   "source": [
    "labels_categories = np.array(labels_categories)"
   ]
  },
  {
   "cell_type": "code",
   "execution_count": 14,
   "id": "8eca9348",
   "metadata": {},
   "outputs": [
    {
     "name": "stdout",
     "output_type": "stream",
     "text": [
      "Number of elements in each category: Counter({2: 2533, 0: 790, 1: 477})\n"
     ]
    }
   ],
   "source": [
    "from collections import Counter\n",
    "from tensorflow.keras.preprocessing.image import ImageDataGenerator\n",
    "\n",
    "# Check the number of elements in each category\n",
    "label_counter = Counter(labels_categories)\n",
    "print(\"Number of elements in each category:\", label_counter)"
   ]
  },
  {
   "cell_type": "code",
   "execution_count": 15,
   "id": "40f0982a",
   "metadata": {},
   "outputs": [],
   "source": [
    "from collections import Counter\n",
    "import numpy as np"
   ]
  },
  {
   "cell_type": "code",
   "execution_count": 16,
   "id": "fb6fe3a2",
   "metadata": {},
   "outputs": [
    {
     "name": "stdout",
     "output_type": "stream",
     "text": [
      "Number of elements in each category: Counter({2: 2533, 0: 790, 1: 477})\n"
     ]
    }
   ],
   "source": [
    "# Check the number of elements in each category\n",
    "label_counter = Counter(labels_categories)\n",
    "print(\"Number of elements in each category:\", label_counter)"
   ]
  },
  {
   "cell_type": "code",
   "execution_count": 17,
   "id": "1d457519",
   "metadata": {},
   "outputs": [],
   "source": [
    "\n",
    "# Determine the desired number of samples per class\n",
    "desired_samples = max(label_counter.values())"
   ]
  },
  {
   "cell_type": "code",
   "execution_count": 18,
   "id": "6ac68fee",
   "metadata": {},
   "outputs": [],
   "source": [
    "oversampled_images = []\n",
    "oversampled_labels = []"
   ]
  },
  {
   "cell_type": "code",
   "execution_count": 19,
   "id": "476b5b71",
   "metadata": {},
   "outputs": [],
   "source": [
    "for label in label_counter:\n",
    "    # Find indices of samples belonging to the current class\n",
    "    indices = [idx for idx, val in enumerate(labels_categories) if val == label]\n",
    "    \n",
    "    # Calculate the number of additional samples needed for the current class\n",
    "    additional_samples_needed = desired_samples - label_counter[label]\n",
    "    \n",
    "    # Randomly select additional_samples_needed indices from the current class with replacement\n",
    "    selected_indices = np.random.choice(indices, size=additional_samples_needed, replace=True)\n",
    "    \n",
    "    # Append selected samples to the oversampled data lists\n",
    "    oversampled_images.extend(images[selected_indices])\n",
    "    oversampled_labels.extend(labels_categories[selected_indices])"
   ]
  },
  {
   "cell_type": "code",
   "execution_count": 20,
   "id": "e4e2f2b9",
   "metadata": {},
   "outputs": [],
   "source": [
    "# Concatenate original data with oversampled data\n",
    "oversampled_images = np.concatenate((images, oversampled_images), axis=0)\n",
    "oversampled_labels = np.concatenate((labels_categories, oversampled_labels), axis=0)"
   ]
  },
  {
   "cell_type": "code",
   "execution_count": 21,
   "id": "ee359745",
   "metadata": {},
   "outputs": [
    {
     "name": "stdout",
     "output_type": "stream",
     "text": [
      "Number of elements in each category after oversampling: Counter({0: 2533, 2: 2533, 1: 2533})\n"
     ]
    }
   ],
   "source": [
    "oversampled_label_counter = Counter(oversampled_labels)\n",
    "print(\"Number of elements in each category after oversampling:\", oversampled_label_counter)"
   ]
  },
  {
   "cell_type": "code",
   "execution_count": 22,
   "id": "5f221227",
   "metadata": {},
   "outputs": [],
   "source": [
    "import numpy as np\n",
    "\n",
    "# Assuming your grayscale images have shape (None, 224, 224)\n",
    "# Add a channel dimension to the images\n",
    "oversampled_images = np.expand_dims(oversampled_images, axis=-1)\n",
    "\n",
    "# Now, grayscale_images_with_channels will have a shape of (None, 224, 224, 1)\n",
    "# which can be used as input to the model\n"
   ]
  },
  {
   "cell_type": "code",
   "execution_count": 23,
   "id": "ce1721a8",
   "metadata": {},
   "outputs": [],
   "source": [
    "import numpy as np\n",
    "\n",
    "# Assuming grayscale_images is your grayscale image data with shape (None, 224, 224, 1)\n",
    "# Convert grayscale images to RGB format by replicating the single channel along the depth dimension\n",
    "oversampled_images = np.repeat(oversampled_images , 3, axis=-1)\n",
    "\n",
    "# Now, rgb_images will have a shape of (None, 224, 224, 3) and can be used as input to the model"
   ]
  },
  {
   "cell_type": "code",
   "execution_count": 24,
   "id": "2d107280",
   "metadata": {},
   "outputs": [],
   "source": [
    "X_train, X_test, y_train, y_test = train_test_split(oversampled_images,oversampled_labels, test_size=0.2, random_state=42)"
   ]
  },
  {
   "cell_type": "code",
   "execution_count": 25,
   "id": "4ccb2ca6",
   "metadata": {},
   "outputs": [
    {
     "data": {
      "text/plain": [
       "(6079, 224, 224, 3)"
      ]
     },
     "execution_count": 25,
     "metadata": {},
     "output_type": "execute_result"
    }
   ],
   "source": [
    "X_train.shape"
   ]
  },
  {
   "cell_type": "code",
   "execution_count": 26,
   "id": "9b3dc0d4",
   "metadata": {},
   "outputs": [
    {
     "data": {
      "text/plain": [
       "(6079,)"
      ]
     },
     "execution_count": 26,
     "metadata": {},
     "output_type": "execute_result"
    }
   ],
   "source": [
    "y_train.shape"
   ]
  },
  {
   "cell_type": "code",
   "execution_count": 27,
   "id": "8cd57601",
   "metadata": {},
   "outputs": [],
   "source": [
    "from tensorflow.keras import layers, models"
   ]
  },
  {
   "cell_type": "code",
   "execution_count": 28,
   "id": "2490ec4c",
   "metadata": {},
   "outputs": [],
   "source": [
    "model = models.Sequential([\n",
    "    layers.Conv2D(32, (3, 3), activation='relu', input_shape=(224, 224 ,3)),\n",
    "    layers.MaxPooling2D((2, 2)),\n",
    "    layers.Conv2D(64, (3, 3), activation='relu'),\n",
    "    layers.MaxPooling2D((2, 2)),\n",
    "    layers.Conv2D(64, (3, 3), activation='relu'),\n",
    "    layers.Flatten(),\n",
    "    layers.Dense(64, activation='relu'),\n",
    "    layers.Dense(3, activation='softmax')  # 3 classes for low, moderate, and high RA severity\n",
    "])"
   ]
  },
  {
   "cell_type": "code",
   "execution_count": 29,
   "id": "a63223ec",
   "metadata": {},
   "outputs": [],
   "source": [
    "model.compile(optimizer='adam',\n",
    "              loss='sparse_categorical_crossentropy',\n",
    "              metrics=['accuracy'])"
   ]
  },
  {
   "cell_type": "code",
   "execution_count": 30,
   "id": "beeeeaf8",
   "metadata": {},
   "outputs": [
    {
     "name": "stdout",
     "output_type": "stream",
     "text": [
      "Model: \"sequential\"\n",
      "_________________________________________________________________\n",
      " Layer (type)                Output Shape              Param #   \n",
      "=================================================================\n",
      " conv2d (Conv2D)             (None, 222, 222, 32)      896       \n",
      "                                                                 \n",
      " max_pooling2d (MaxPooling2D  (None, 111, 111, 32)     0         \n",
      " )                                                               \n",
      "                                                                 \n",
      " conv2d_1 (Conv2D)           (None, 109, 109, 64)      18496     \n",
      "                                                                 \n",
      " max_pooling2d_1 (MaxPooling  (None, 54, 54, 64)       0         \n",
      " 2D)                                                             \n",
      "                                                                 \n",
      " conv2d_2 (Conv2D)           (None, 52, 52, 64)        36928     \n",
      "                                                                 \n",
      " flatten (Flatten)           (None, 173056)            0         \n",
      "                                                                 \n",
      " dense (Dense)               (None, 64)                11075648  \n",
      "                                                                 \n",
      " dense_1 (Dense)             (None, 3)                 195       \n",
      "                                                                 \n",
      "=================================================================\n",
      "Total params: 11,132,163\n",
      "Trainable params: 11,132,163\n",
      "Non-trainable params: 0\n",
      "_________________________________________________________________\n"
     ]
    }
   ],
   "source": [
    "model.summary()"
   ]
  },
  {
   "cell_type": "code",
   "execution_count": 31,
   "id": "fb92198d",
   "metadata": {},
   "outputs": [
    {
     "name": "stdout",
     "output_type": "stream",
     "text": [
      "Epoch 1/20\n",
      "152/152 [==============================] - 98s 634ms/step - loss: 16.4584 - accuracy: 0.5131 - val_loss: 0.8858 - val_accuracy: 0.6217\n",
      "Epoch 2/20\n",
      "152/152 [==============================] - 100s 655ms/step - loss: 0.5194 - accuracy: 0.7964 - val_loss: 0.5845 - val_accuracy: 0.7804\n",
      "Epoch 3/20\n",
      "152/152 [==============================] - 98s 648ms/step - loss: 0.1645 - accuracy: 0.9451 - val_loss: 0.6338 - val_accuracy: 0.8273\n",
      "Epoch 4/20\n",
      "152/152 [==============================] - 95s 624ms/step - loss: 0.0591 - accuracy: 0.9840 - val_loss: 0.6142 - val_accuracy: 0.8709\n",
      "Epoch 5/20\n",
      "152/152 [==============================] - 96s 630ms/step - loss: 0.0186 - accuracy: 0.9955 - val_loss: 0.8373 - val_accuracy: 0.8602\n",
      "Epoch 6/20\n",
      "152/152 [==============================] - 97s 640ms/step - loss: 0.0115 - accuracy: 0.9973 - val_loss: 0.9573 - val_accuracy: 0.8396\n",
      "Epoch 7/20\n",
      "152/152 [==============================] - 95s 627ms/step - loss: 0.0111 - accuracy: 0.9969 - val_loss: 0.9223 - val_accuracy: 0.8347\n",
      "Epoch 8/20\n",
      "152/152 [==============================] - 98s 642ms/step - loss: 0.0391 - accuracy: 0.9907 - val_loss: 1.0122 - val_accuracy: 0.8166\n",
      "Epoch 9/20\n",
      "152/152 [==============================] - 98s 646ms/step - loss: 0.0287 - accuracy: 0.9942 - val_loss: 1.0215 - val_accuracy: 0.8668\n",
      "Epoch 10/20\n",
      "152/152 [==============================] - 98s 648ms/step - loss: 0.0156 - accuracy: 0.9965 - val_loss: 0.9771 - val_accuracy: 0.8561\n",
      "Epoch 11/20\n",
      "152/152 [==============================] - 98s 645ms/step - loss: 0.0335 - accuracy: 0.9914 - val_loss: 1.0699 - val_accuracy: 0.8322\n",
      "Epoch 12/20\n",
      "152/152 [==============================] - 98s 644ms/step - loss: 0.0523 - accuracy: 0.9868 - val_loss: 0.9766 - val_accuracy: 0.8421\n",
      "Epoch 13/20\n",
      "152/152 [==============================] - 98s 644ms/step - loss: 0.0192 - accuracy: 0.9944 - val_loss: 1.1841 - val_accuracy: 0.8372\n",
      "Epoch 14/20\n",
      "152/152 [==============================] - 101s 666ms/step - loss: 0.0393 - accuracy: 0.9914 - val_loss: 1.2955 - val_accuracy: 0.8273\n",
      "Epoch 15/20\n",
      "152/152 [==============================] - 99s 654ms/step - loss: 0.0198 - accuracy: 0.9959 - val_loss: 1.3871 - val_accuracy: 0.8306\n",
      "Epoch 16/20\n",
      "152/152 [==============================] - 95s 627ms/step - loss: 0.0114 - accuracy: 0.9988 - val_loss: 1.2091 - val_accuracy: 0.8520\n",
      "Epoch 17/20\n",
      "152/152 [==============================] - 95s 628ms/step - loss: 3.6723e-04 - accuracy: 0.9998 - val_loss: 1.2712 - val_accuracy: 0.8561\n",
      "Epoch 18/20\n",
      "152/152 [==============================] - 96s 633ms/step - loss: 6.9407e-05 - accuracy: 1.0000 - val_loss: 1.2892 - val_accuracy: 0.8586\n",
      "Epoch 19/20\n",
      "152/152 [==============================] - 98s 643ms/step - loss: 5.0552e-05 - accuracy: 1.0000 - val_loss: 1.3048 - val_accuracy: 0.8586\n",
      "Epoch 20/20\n",
      "152/152 [==============================] - 57370s 380s/step - loss: 3.9873e-05 - accuracy: 1.0000 - val_loss: 1.3191 - val_accuracy: 0.8586\n"
     ]
    }
   ],
   "source": [
    "history = model.fit(X_train,y_train , epochs= 20 , batch_size=32, validation_split=0.2)"
   ]
  },
  {
   "cell_type": "code",
   "execution_count": 32,
   "id": "8013ebca",
   "metadata": {},
   "outputs": [],
   "source": [
    "import matplotlib.pyplot as plt"
   ]
  },
  {
   "cell_type": "code",
   "execution_count": 33,
   "id": "6bb7440c",
   "metadata": {},
   "outputs": [
    {
     "data": {
      "text/plain": [
       "<matplotlib.legend.Legend at 0x230a26e2500>"
      ]
     },
     "execution_count": 33,
     "metadata": {},
     "output_type": "execute_result"
    },
    {
     "data": {
      "image/png": "[encoded data removed]",
      "text/plain": [
       "<Figure size 1200x600 with 1 Axes>"
      ]
     },
     "metadata": {},
     "output_type": "display_data"
    }
   ],
   "source": [
    "plt.figure(figsize=(12, 6))\n",
    "plt.subplot(1, 2, 1)\n",
    "plt.plot(history.history['loss'], label='Training Loss')\n",
    "plt.plot(history.history['val_loss'], label='Validation Loss')\n",
    "plt.title('Training and Validation Loss')\n",
    "plt.xlabel('Epoch')\n",
    "plt.ylabel('Loss')\n",
    "plt.legend()"
   ]
  },
  {
   "cell_type": "code",
   "execution_count": 34,
   "id": "956b327e",
   "metadata": {},
   "outputs": [
    {
     "data": {
      "image/png": "[encoded data removed]",
      "text/plain": [
       "<Figure size 640x480 with 1 Axes>"
      ]
     },
     "metadata": {},
     "output_type": "display_data"
    }
   ],
   "source": [
    "# Plot training and validation accuracy\n",
    "plt.subplot(1, 2, 2)\n",
    "plt.plot(history.history['accuracy'], label='Training Accuracy')\n",
    "plt.plot(history.history['val_accuracy'], label='Validation Accuracy')\n",
    "plt.title('Training and Validation Accuracy')\n",
    "plt.xlabel('Epoch')\n",
    "plt.ylabel('Accuracy')\n",
    "plt.legend()\n",
    "\n",
    "plt.tight_layout()\n",
    "plt.show()"
   ]
  },
  {
   "cell_type": "code",
   "execution_count": 35,
   "id": "5d8b9860",
   "metadata": {},
   "outputs": [
    {
     "name": "stdout",
     "output_type": "stream",
     "text": [
      "48/48 - 7s - loss: 1.3718 - accuracy: 0.8559 - 7s/epoch - 142ms/step\n",
      "\n",
      "Test accuracy: 0.8559210300445557\n"
     ]
    }
   ],
   "source": [
    "test_loss, test_acc = model.evaluate(X_test, y_test, verbose=2)\n",
    "print('\\nTest accuracy:', test_acc)"
   ]
  },
  {
   "cell_type": "code",
   "execution_count": 36,
   "id": "e5505fe0",
   "metadata": {},
   "outputs": [
    {
     "name": "stdout",
     "output_type": "stream",
     "text": [
      "48/48 [==============================] - 7s 149ms/step\n"
     ]
    }
   ],
   "source": [
    "predictions = model.predict(X_test)\n",
    "y_pred = np.argmax(predictions, axis=1)"
   ]
  },
  {
   "cell_type": "code",
   "execution_count": 37,
   "id": "ec8360c3",
   "metadata": {},
   "outputs": [
    {
     "data": {
      "image/png": "[encoded data removed]",
      "text/plain": [
       "<Figure size 800x600 with 1 Axes>"
      ]
     },
     "metadata": {},
     "output_type": "display_data"
    }
   ],
   "source": [
    "import matplotlib.pyplot as plt\n",
    "import seaborn as sns\n",
    "from sklearn.metrics import confusion_matrix\n",
    "\n",
    "# Calculate confusion matrix\n",
    "conf_matrix = confusion_matrix(y_test, y_pred)\n",
    "\n",
    "# Plot confusion matrix\n",
    "plt.figure(figsize=(8, 6))\n",
    "sns.heatmap(conf_matrix, annot=True, fmt='d', cmap='Blues', cbar=False)\n",
    "plt.title('Confusion Matrix')\n",
    "plt.xlabel('Predicted Labels')\n",
    "plt.ylabel('True Labels')\n",
    "plt.xticks(ticks=[0, 1, 2], labels=['Low', 'Moderate', 'High'])\n",
    "plt.yticks(ticks=[0, 1, 2], labels=['Low', 'Moderate', 'High'])\n",
    "plt.show()"
   ]
  },
  {
   "cell_type": "code",
   "execution_count": 38,
   "id": "c9436efb",
   "metadata": {},
   "outputs": [
    {
     "name": "stdout",
     "output_type": "stream",
     "text": [
      "48/48 [==============================] - 7s 148ms/step - loss: 1.3718 - accuracy: 0.8559\n",
      "Test Loss: 1.37184739112854\n",
      "Test Accuracy: 0.8559210300445557\n"
     ]
    }
   ],
   "source": [
    "# Assuming you have your training and testing data ready, and the model is trained\n",
    "\n",
    "# Evaluate the model on the test data\n",
    "test_loss, test_accuracy = model.evaluate(X_test, y_test)\n",
    "\n",
    "# Print the test loss and accuracy\n",
    "print(\"Test Loss:\", test_loss)\n",
    "print(\"Test Accuracy:\", test_accuracy)\n",
    "\n",
    "\n"
   ]
  },
  {
   "cell_type": "code",
   "execution_count": 39,
   "id": "df049e9b",
   "metadata": {},
   "outputs": [],
   "source": [
    "# Save the model to disk\n",
    "model.save(\"cnn_model.h5\")"
   ]
  },
  {
   "cell_type": "code",
   "execution_count": 40,
   "id": "bf28333e",
   "metadata": {},
   "outputs": [],
   "source": [
    "from tensorflow.keras.models import load_model"
   ]
  },
  {
   "cell_type": "code",
   "execution_count": 41,
   "id": "fd3c3fc7",
   "metadata": {},
   "outputs": [],
   "source": [
    " loaded_model =  load_model(\"cnn_model.h5\")"
   ]
  },
  {
   "cell_type": "code",
   "execution_count": 42,
   "id": "3db8b244",
   "metadata": {},
   "outputs": [],
   "source": [
    "# from tensorflow.keras.preprocessing import image\n",
    "# import numpy as np\n",
    "\n",
    "# # Load the image\n",
    "# img_path = r'C:\\Users\\Dell\\Desktop\\data\\Xrayimage\\445062.jpg'\n",
    "# img = image.load_img(img_path, target_size=( 224, 224, 3))  \n",
    "# img_array = image.img_to_array(img)\n",
    "# img_array = np.expand_dims(img_array, axis=0)  # Add batch dimension\n",
    "\n",
    "# # Preprocess the image\n",
    "# img_array /= 255.0  # Normalize pixel values\n",
    "\n",
    "# # Use the loaded model to make predictions on the preprocessed image\n",
    "# predictions = loaded_model.predict(img_array)\n",
    "\n",
    "# # Assuming 'actual_label' is the actual label or class of the image\n",
    "# # Convert the predicted probabilities into a single class prediction\n",
    "# predicted_label = np.argmax(predictions[0])\n",
    "\n",
    "# # Print the predicted label and actual label\n",
    "# print(\"Predicted Label:\", predicted_label)\n",
    "# # print(\"Actual Label:\", actual_label)\n"
   ]
  },
  {
   "cell_type": "markdown",
   "id": "18043d06",
   "metadata": {},
   "source": [
    "#TESTING MODEL ON NEW DATA "
   ]
  },
  {
   "cell_type": "code",
   "execution_count": 43,
   "id": "5d44ad8e",
   "metadata": {},
   "outputs": [
    {
     "name": "stdout",
     "output_type": "stream",
     "text": [
      "1/1 - 0s - loss: 6.8972 - accuracy: 0.7222 - 280ms/epoch - 280ms/step\n",
      "\n",
      "Test accuracy: 0.7222222089767456\n"
     ]
    }
   ],
   "source": [
    "import os\n",
    "import cv2\n",
    "import pandas as pd\n",
    "import numpy as np\n",
    "from tensorflow.keras.preprocessing.image import img_to_array\n",
    "from sklearn.preprocessing import LabelEncoder\n",
    "\n",
    "# Path to the directory containing the new data\n",
    "csv_file_path = \"new_data.csv\"  \n",
    "image_folder_path = r\"C:\\Users\\Dell\\Desktop\\data\\CHECK\"\n",
    "\n",
    "# Read the CSV file containing image paths and labels\n",
    "data = pd.read_csv(csv_file_path)\n",
    "\n",
    "\n",
    "\n",
    "# List to store images and corresponding labels\n",
    "images = []\n",
    "labels = []\n",
    "\n",
    "# Iterate over the rows in the data DataFrame\n",
    "for index, row in data.iterrows():\n",
    "    image_path = os.path.join(image_folder_path, str(row['imageNo']) + '.jpg')\n",
    "    try:\n",
    "        # Load and preprocess the image\n",
    "        image = cv2.imread(image_path) \n",
    "        if image is not None:\n",
    "            image = cv2.resize(image, (224, 224))  # Resize image to (224, 224)\n",
    "            image = img_to_array(image) / 255.0    # Normalize pixel values\n",
    "            images.append(image)\n",
    "            labels.append(row['rascore'])\n",
    "        else:\n",
    "            print(f\"Error: Unable to read image {image_path}\")\n",
    "    except Exception as e:\n",
    "        print(f\"Error: Exception occurred while loading image {image_path}: {e}\")\n",
    "\n",
    "# Convert the lists of images and labels to NumPy arrays\n",
    "images = np.array(images, dtype=\"float32\")\n",
    "labels = np.array(labels)\n",
    "\n",
    "# Ensure that images have the correct shape\n",
    "images = images.reshape(images.shape[0], 224, 224, 3)\n",
    "\n",
    "# Categorize the labels into three categories based on their values\n",
    "label_encoder = LabelEncoder()\n",
    "labels_categories = label_encoder.fit_transform(pd.cut(labels, bins=[-np.inf, 5, 10, np.inf], labels=[0, 1, 2]))\n",
    "\n",
    "# Evaluate the model on the new data\n",
    "test_loss, test_acc = model.evaluate(images, labels_categories, verbose=2)\n",
    "print('\\nTest accuracy:', test_acc)"
   ]
  },
  {
   "cell_type": "code",
   "execution_count": null,
   "id": "93aeefeb",
   "metadata": {},
   "outputs": [],
   "source": []
  },
  {
   "cell_type": "code",
   "execution_count": null,
   "id": "29a4eafc",
   "metadata": {},
   "outputs": [],
   "source": []
  },
  {
   "cell_type": "code",
   "execution_count": null,
   "id": "11ce4ea7",
   "metadata": {},
   "outputs": [],
   "source": []
  },
  {
   "cell_type": "code",
   "execution_count": null,
   "id": "e3a367b4",
   "metadata": {},
   "outputs": [],
   "source": []
  },
  {
   "cell_type": "code",
   "execution_count": null,
   "id": "d816994e",
   "metadata": {},
   "outputs": [],
   "source": []
  },
  {
   "cell_type": "code",
   "execution_count": null,
   "id": "f30f2c56",
   "metadata": {},
   "outputs": [],
   "source": []
  },
  {
   "cell_type": "code",
   "execution_count": null,
   "id": "3db0d233",
   "metadata": {},
   "outputs": [],
   "source": []
  },
  {
   "cell_type": "code",
   "execution_count": null,
   "id": "04d4055b",
   "metadata": {},
   "outputs": [],
   "source": []
  },
  {
   "cell_type": "code",
   "execution_count": null,
   "id": "90504c97",
   "metadata": {},
   "outputs": [],
   "source": []
  },
  {
   "cell_type": "code",
   "execution_count": null,
   "id": "455b131c",
   "metadata": {},
   "outputs": [],
   "source": []
  },
  {
   "cell_type": "code",
   "execution_count": null,
   "id": "2038d37d",
   "metadata": {},
   "outputs": [],
   "source": []
  },
  {
   "cell_type": "code",
   "execution_count": null,
   "id": "7dfd1464",
   "metadata": {},
   "outputs": [],
   "source": []
  },
  {
   "cell_type": "code",
   "execution_count": null,
   "id": "6032cb73",
   "metadata": {},
   "outputs": [],
   "source": []
  },
  {
   "cell_type": "code",
   "execution_count": null,
   "id": "5eda4916",
   "metadata": {},
   "outputs": [],
   "source": []
  },
  {
   "cell_type": "code",
   "execution_count": null,
   "id": "d05eed6a",
   "metadata": {},
   "outputs": [],
   "source": []
  },
  {
   "cell_type": "code",
   "execution_count": null,
   "id": "2989f1af",
   "metadata": {},
   "outputs": [],
   "source": []
  },
  {
   "cell_type": "code",
   "execution_count": null,
   "id": "5968773e",
   "metadata": {},
   "outputs": [],
   "source": []
  },
  {
   "cell_type": "code",
   "execution_count": null,
   "id": "93dc4243",
   "metadata": {},
   "outputs": [],
   "source": []
  },
  {
   "cell_type": "code",
   "execution_count": null,
   "id": "add1a516",
   "metadata": {},
   "outputs": [],
   "source": []
  },
  {
   "cell_type": "code",
   "execution_count": null,
   "id": "383b4b3c",
   "metadata": {},
   "outputs": [],
   "source": []
  },
  {
   "cell_type": "code",
   "execution_count": null,
   "id": "82346745",
   "metadata": {},
   "outputs": [],
   "source": []
  }
 ],
 "metadata": {
  "kernelspec": {
   "display_name": "Python 3 (ipykernel)",
   "language": "python",
   "name": "python3"
  },
  "language_info": {
   "codemirror_mode": {
    "name": "ipython",
    "version": 3
   },
   "file_extension": ".py",
   "mimetype": "text/x-python",
   "name": "python",
   "nbconvert_exporter": "python",
   "pygments_lexer": "ipython3",
   "version": "3.10.7"
  }
 },
 "nbformat": 4,
 "nbformat_minor": 5
}
